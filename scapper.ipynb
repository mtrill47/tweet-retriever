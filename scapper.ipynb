{
 "cells": [
  {
   "cell_type": "code",
   "execution_count": 333,
   "source": [
    "'''\r\n",
    "Title: Tweet Retriever\r\n",
    "\r\n",
    "Purpose: Janky quick way to retrieve your own tweets and search through them using specific words or phrases found in the tweets.\r\n",
    "\r\n",
    "Author: Tadiwanashe Matthew Kadango (matthewkadango@gmail.com)\r\n",
    "Followed tutorial by Israel Dryer.\r\n",
    "\r\n",
    "Code Reuse: This code is free for reuse. Edit it and use it for educational purposes only!\r\n",
    "\r\n",
    "\r\n",
    "'''\r\n",
    "import csv\r\n",
    "from getpass import getpass\r\n",
    "from time import sleep\r\n",
    "from selenium.webdriver.common.keys import Keys \r\n",
    "from selenium.common.exceptions import NoSuchElementException\r\n",
    "from msedge.selenium_tools import Edge, EdgeOptions"
   ],
   "outputs": [],
   "metadata": {}
  },
  {
   "cell_type": "code",
   "execution_count": 334,
   "source": [
    "def get_tweet_data(card):\r\n",
    "    '''Extract data from tweet data'''\r\n",
    "    username = card.find_element_by_xpath('.//span').text\r\n",
    "    handle = card.find_element_by_xpath('.//span[contains(text(), \"@\")]').text\r\n",
    "    long_date = card.find_element_by_xpath('.//time').get_attribute('datetime')\r\n",
    "    short_date = long_date[:10] \r\n",
    "    comment = card.find_element_by_xpath('.//div[2]/div[2]/div[1]').text\r\n",
    "    responding = card.find_element_by_xpath('.//div[2]/div[2]/div[2]').text\r\n",
    "    text = comment +\" \"+ responding    \r\n",
    "\r\n",
    "    rough_tweet = username, handle, short_date, text\r\n",
    "    tweet = []\r\n",
    "    for char in rough_tweet:\r\n",
    "        tweet.append(char.replace(\"\\n\", \" \"))\r\n",
    "    \r\n",
    "    return tweet\r\n",
    "\r\n",
    "user = input('Enter username: ')\r\n",
    "user_pass = input('Enter password: ')"
   ],
   "outputs": [],
   "metadata": {}
  },
  {
   "cell_type": "code",
   "execution_count": 335,
   "source": [
    "options = EdgeOptions()\r\n",
    "options.use_chromium = True\r\n",
    "driver = Edge(options=options)\r\n",
    "\r\n",
    "driver.get('https://twitter.com/login')\r\n",
    "driver.maximize_window()\r\n",
    "sleep(2.5)\r\n",
    "\r\n",
    "# username\r\n",
    "username = driver.find_element_by_xpath('//input[@name=\"session[username_or_email]\"]')\r\n",
    "username.send_keys(user)\r\n",
    "\r\n",
    "#password\r\n",
    "\r\n",
    "password = driver.find_element_by_xpath('//input[@name=\"session[password]\"]')\r\n",
    "password.send_keys(user_pass)\r\n",
    "password.send_keys(Keys.RETURN)\r\n",
    "sleep(2.5)\r\n",
    "\r\n",
    "driver.get('https://twitter.com/{}'.format(user))\r\n",
    "sleep(3)\r\n"
   ],
   "outputs": [],
   "metadata": {}
  },
  {
   "cell_type": "code",
   "execution_count": 336,
   "source": [
    "data = []\r\n",
    "tweet_ids = set()\r\n",
    "last_position = driver.execute_script(\"return window.pageYOffset;\")\r\n",
    "scrolling = True\r\n",
    "\r\n",
    "# allowing the bot to scroll till the end of the page\r\n",
    "while scrolling:\r\n",
    "    page_cards = driver.find_elements_by_xpath('//div[@data-testid=\"tweet\"]')\r\n",
    "    for card in page_cards[-15:]:\r\n",
    "        tweet = get_tweet_data(card)\r\n",
    "        if tweet:\r\n",
    "            tweet_id = ''.join(tweet)\r\n",
    "            if tweet_id not in tweet_ids:\r\n",
    "                tweet_ids.add(tweet_id)\r\n",
    "                data.append(tweet)\r\n",
    "            \r\n",
    "    scroll_attempt = 0\r\n",
    "    while True:\r\n",
    "        # check scroll position\r\n",
    "        driver.execute_script('window.scrollTo(0, document.body.scrollHeight);')\r\n",
    "        sleep(2)\r\n",
    "        curr_position = driver.execute_script(\"return window.pageYOffset;\")\r\n",
    "        if last_position == curr_position:\r\n",
    "            scroll_attempt += 1\r\n",
    "            \r\n",
    "            # end of scroll region\r\n",
    "            if scroll_attempt >= 3:\r\n",
    "                scrolling = False\r\n",
    "                break\r\n",
    "            else:\r\n",
    "                sleep(2) # attempt another scroll\r\n",
    "        else:\r\n",
    "            last_position = curr_position\r\n",
    "            break\r\n",
    "\r\n",
    "# close the web driver\r\n",
    "driver.close()\r\n"
   ],
   "outputs": [],
   "metadata": {}
  },
  {
   "cell_type": "code",
   "execution_count": 337,
   "source": [
    "# sorting the retrieved tweets into single list\r\n",
    "sorted_tweet_data = []\r\n",
    "for i in data:\r\n",
    "    sorted_tweet_data.append(' || '.join(i).lower())"
   ],
   "outputs": [],
   "metadata": {}
  },
  {
   "cell_type": "code",
   "execution_count": 338,
   "source": [
    "search_data = input(\"What are you looking for? \\n >> \")"
   ],
   "outputs": [],
   "metadata": {}
  },
  {
   "cell_type": "code",
   "execution_count": null,
   "source": [
    "for tweet in sorted_tweet_data:\r\n",
    "    if search_data in tweet:\r\n",
    "        print(tweet + '\\n')"
   ],
   "outputs": [],
   "metadata": {}
  }
 ],
 "metadata": {
  "orig_nbformat": 4,
  "language_info": {
   "name": "python",
   "version": "3.9.2",
   "mimetype": "text/x-python",
   "codemirror_mode": {
    "name": "ipython",
    "version": 3
   },
   "pygments_lexer": "ipython3",
   "nbconvert_exporter": "python",
   "file_extension": ".py"
  },
  "kernelspec": {
   "name": "python3",
   "display_name": "Python 3.9.2 64-bit"
  },
  "interpreter": {
   "hash": "ec8cd96968fe6b3b6360fc943f128847c29f98a1896a86e4c536f2458bb7a375"
  }
 },
 "nbformat": 4,
 "nbformat_minor": 2
}